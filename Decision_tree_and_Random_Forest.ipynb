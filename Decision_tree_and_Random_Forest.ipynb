{
  "nbformat": 4,
  "nbformat_minor": 0,
  "metadata": {
    "kernelspec": {
      "display_name": "Python 3",
      "language": "python",
      "name": "python3"
    },
    "language_info": {
      "codemirror_mode": {
        "name": "ipython",
        "version": 3
      },
      "file_extension": ".py",
      "mimetype": "text/x-python",
      "name": "python",
      "nbconvert_exporter": "python",
      "pygments_lexer": "ipython3",
      "version": "3.8.3"
    },
    "colab": {
      "name": "Decision tree and Random Forest.ipynb",
      "provenance": []
    }
  },
  "cells": [
    {
      "cell_type": "code",
      "metadata": {
        "id": "ECPJyF9WW358"
      },
      "source": [
        "import pandas as pd\n",
        "from sklearn.tree import DecisionTreeClassifier \n",
        "from sklearn.model_selection import train_test_split \n",
        "from sklearn import metrics "
      ],
      "execution_count": null,
      "outputs": []
    },
    {
      "cell_type": "code",
      "metadata": {
        "colab": {
          "resources": {
            "http://localhost:8080/nbextensions/google.colab/files.js": {
              "data": "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",
              "ok": true,
              "headers": [
                [
                  "content-type",
                  "application/javascript"
                ]
              ],
              "status": 200,
              "status_text": "OK"
            }
          },
          "base_uri": "https://localhost:8080/",
          "height": 75
        },
        "id": "wWzzeF2hW827",
        "outputId": "c835ef44-47bd-42c6-ddb9-2798ed1b46c3"
      },
      "source": [
        "from google.colab import files\n",
        "uploaded = files.upload()"
      ],
      "execution_count": null,
      "outputs": [
        {
          "output_type": "display_data",
          "data": {
            "text/html": [
              "\n",
              "     <input type=\"file\" id=\"files-5657eec3-2f8b-42ce-a0e5-48db43719bdb\" name=\"files[]\" multiple disabled\n",
              "        style=\"border:none\" />\n",
              "     <output id=\"result-5657eec3-2f8b-42ce-a0e5-48db43719bdb\">\n",
              "      Upload widget is only available when the cell has been executed in the\n",
              "      current browser session. Please rerun this cell to enable.\n",
              "      </output>\n",
              "      <script src=\"/nbextensions/google.colab/files.js\"></script> "
            ],
            "text/plain": [
              "<IPython.core.display.HTML object>"
            ]
          },
          "metadata": {
            "tags": []
          }
        },
        {
          "output_type": "stream",
          "text": [
            "Saving customertrialdata.xlsx to customertrialdata.xlsx\n"
          ],
          "name": "stdout"
        }
      ]
    },
    {
      "cell_type": "code",
      "metadata": {
        "id": "KQEJZm6QW36X"
      },
      "source": [
        "df = pd.read_excel('customertrialdata.xlsx')\n",
        "df.drop(['PRIMARY.ASSET.MODELNO'], axis='columns', inplace=True)"
      ],
      "execution_count": null,
      "outputs": []
    },
    {
      "cell_type": "code",
      "metadata": {
        "scrolled": false,
        "colab": {
          "base_uri": "https://localhost:8080/",
          "height": 382
        },
        "id": "B4qd3i0HW36d",
        "outputId": "725dc97e-8f42-46b8-d716-70da0b896404"
      },
      "source": [
        "df.head()"
      ],
      "execution_count": null,
      "outputs": [
        {
          "output_type": "execute_result",
          "data": {
            "text/html": [
              "<div>\n",
              "<style scoped>\n",
              "    .dataframe tbody tr th:only-of-type {\n",
              "        vertical-align: middle;\n",
              "    }\n",
              "\n",
              "    .dataframe tbody tr th {\n",
              "        vertical-align: top;\n",
              "    }\n",
              "\n",
              "    .dataframe thead th {\n",
              "        text-align: right;\n",
              "    }\n",
              "</style>\n",
              "<table border=\"1\" class=\"dataframe\">\n",
              "  <thead>\n",
              "    <tr style=\"text-align: right;\">\n",
              "      <th></th>\n",
              "      <th>APPLICATION.ID</th>\n",
              "      <th>QUEUE.ID</th>\n",
              "      <th>CURRENT.STAGE</th>\n",
              "      <th>MARITAL.STATUS</th>\n",
              "      <th>GENDER</th>\n",
              "      <th>AGE</th>\n",
              "      <th>EDUCATION</th>\n",
              "      <th>RESIDENCE.TYPE</th>\n",
              "      <th>CITY</th>\n",
              "      <th>STATE</th>\n",
              "      <th>EMPLOY.CONSTITUTION</th>\n",
              "      <th>PAN.STATUS</th>\n",
              "      <th>APPLICATION.SCORE</th>\n",
              "      <th>APPROVED.AMOUNT</th>\n",
              "      <th>APPLIED.AMOUNT</th>\n",
              "      <th>LOAN.TENOR</th>\n",
              "      <th>OWN.HOUSE.TYPE</th>\n",
              "      <th>PRIMARY.ASSET.CTG</th>\n",
              "      <th>PRIMARY.ASSET.MAKE</th>\n",
              "      <th>VOTER_ID</th>\n",
              "      <th>DRIVING_LICENSE</th>\n",
              "      <th>AADHAAR</th>\n",
              "      <th>PAN</th>\n",
              "      <th>BANK_PASSBOOK</th>\n",
              "      <th>APPLICATION.STATUS</th>\n",
              "    </tr>\n",
              "  </thead>\n",
              "  <tbody>\n",
              "    <tr>\n",
              "      <th>0</th>\n",
              "      <td>27497000024</td>\n",
              "      <td>Straight  Through Process</td>\n",
              "      <td>PD_DE</td>\n",
              "      <td>Single</td>\n",
              "      <td>Male</td>\n",
              "      <td>30</td>\n",
              "      <td>GRADUATE</td>\n",
              "      <td>OWNED-BUNGLOW</td>\n",
              "      <td>UDHANA</td>\n",
              "      <td>GUJARAT</td>\n",
              "      <td>SELF-EMPLOYED</td>\n",
              "      <td>Pan Not Submitted</td>\n",
              "      <td>69.0</td>\n",
              "      <td>32321</td>\n",
              "      <td>28000</td>\n",
              "      <td>10</td>\n",
              "      <td>Self Owned</td>\n",
              "      <td>REF-FF HOME</td>\n",
              "      <td>SAMSUNG</td>\n",
              "      <td>F</td>\n",
              "      <td>F</td>\n",
              "      <td>T</td>\n",
              "      <td>F</td>\n",
              "      <td>F</td>\n",
              "      <td>Declined</td>\n",
              "    </tr>\n",
              "    <tr>\n",
              "      <th>1</th>\n",
              "      <td>25556001005</td>\n",
              "      <td>Straight  Through Process</td>\n",
              "      <td>PD_DE</td>\n",
              "      <td>Married</td>\n",
              "      <td>Male</td>\n",
              "      <td>38</td>\n",
              "      <td>OTHERS</td>\n",
              "      <td>PARENT OWNED-HOUSE</td>\n",
              "      <td>BHOPAL</td>\n",
              "      <td>MADHYA PRADESH</td>\n",
              "      <td>SELF-EMPLOYED</td>\n",
              "      <td>Pan Not Submitted</td>\n",
              "      <td>108.0</td>\n",
              "      <td>47000</td>\n",
              "      <td>47000</td>\n",
              "      <td>12</td>\n",
              "      <td>Parent Owned</td>\n",
              "      <td>TELEVISION</td>\n",
              "      <td>SONY</td>\n",
              "      <td>F</td>\n",
              "      <td>T</td>\n",
              "      <td>F</td>\n",
              "      <td>F</td>\n",
              "      <td>F</td>\n",
              "      <td>Approved</td>\n",
              "    </tr>\n",
              "    <tr>\n",
              "      <th>2</th>\n",
              "      <td>27220000249</td>\n",
              "      <td>Straight  Through Process</td>\n",
              "      <td>PD_DE</td>\n",
              "      <td>Married</td>\n",
              "      <td>Male</td>\n",
              "      <td>52</td>\n",
              "      <td>GRADUATE</td>\n",
              "      <td>OWNED-ROWHOUSE</td>\n",
              "      <td>RAIPUR</td>\n",
              "      <td>CHHATTISGARH</td>\n",
              "      <td>SELF-EMPLOYED</td>\n",
              "      <td>Pan Not Submitted</td>\n",
              "      <td>143.0</td>\n",
              "      <td>30000</td>\n",
              "      <td>30000</td>\n",
              "      <td>12</td>\n",
              "      <td>Self Owned</td>\n",
              "      <td>AIR CONDITIONER</td>\n",
              "      <td>ELECTROLUX</td>\n",
              "      <td>F</td>\n",
              "      <td>T</td>\n",
              "      <td>F</td>\n",
              "      <td>F</td>\n",
              "      <td>F</td>\n",
              "      <td>Approved</td>\n",
              "    </tr>\n",
              "    <tr>\n",
              "      <th>3</th>\n",
              "      <td>27067000029</td>\n",
              "      <td>Under.Writer</td>\n",
              "      <td>DCLN</td>\n",
              "      <td>Married</td>\n",
              "      <td>Male</td>\n",
              "      <td>57</td>\n",
              "      <td>GRADUATE</td>\n",
              "      <td>OWNED-BUNGLOW</td>\n",
              "      <td>JAMNAGAR</td>\n",
              "      <td>GUJARAT</td>\n",
              "      <td>SELF-EMPLOYED</td>\n",
              "      <td>Pan Not Submitted</td>\n",
              "      <td>60.0</td>\n",
              "      <td>32321</td>\n",
              "      <td>49000</td>\n",
              "      <td>12</td>\n",
              "      <td>Self Owned</td>\n",
              "      <td>HOME THEATRE</td>\n",
              "      <td>TARGET</td>\n",
              "      <td>F</td>\n",
              "      <td>F</td>\n",
              "      <td>T</td>\n",
              "      <td>F</td>\n",
              "      <td>F</td>\n",
              "      <td>Declined</td>\n",
              "    </tr>\n",
              "    <tr>\n",
              "      <th>4</th>\n",
              "      <td>26189000138</td>\n",
              "      <td>Straight  Through Process</td>\n",
              "      <td>APRV</td>\n",
              "      <td>Married</td>\n",
              "      <td>Male</td>\n",
              "      <td>38</td>\n",
              "      <td>GRADUATE</td>\n",
              "      <td>OWNED-BUNGLOW</td>\n",
              "      <td>UDHANA</td>\n",
              "      <td>GUJARAT</td>\n",
              "      <td>SALARIED</td>\n",
              "      <td>ERROR</td>\n",
              "      <td>62.0</td>\n",
              "      <td>32321</td>\n",
              "      <td>45000</td>\n",
              "      <td>10</td>\n",
              "      <td>Self Owned</td>\n",
              "      <td>SPLIT AC</td>\n",
              "      <td>ELECTROLUX</td>\n",
              "      <td>F</td>\n",
              "      <td>F</td>\n",
              "      <td>F</td>\n",
              "      <td>T</td>\n",
              "      <td>F</td>\n",
              "      <td>Approved</td>\n",
              "    </tr>\n",
              "  </tbody>\n",
              "</table>\n",
              "</div>"
            ],
            "text/plain": [
              "   APPLICATION.ID                   QUEUE.ID  ... BANK_PASSBOOK APPLICATION.STATUS\n",
              "0     27497000024  Straight  Through Process  ...             F           Declined\n",
              "1     25556001005  Straight  Through Process  ...             F           Approved\n",
              "2     27220000249  Straight  Through Process  ...             F           Approved\n",
              "3     27067000029               Under.Writer  ...             F           Declined\n",
              "4     26189000138  Straight  Through Process  ...             F           Approved\n",
              "\n",
              "[5 rows x 25 columns]"
            ]
          },
          "metadata": {
            "tags": []
          },
          "execution_count": 45
        }
      ]
    },
    {
      "cell_type": "code",
      "metadata": {
        "scrolled": true,
        "colab": {
          "base_uri": "https://localhost:8080/"
        },
        "id": "ucCyDGKHW36l",
        "outputId": "58e7624f-88b9-4852-bcdc-bce73a33410d"
      },
      "source": [
        "df.info()"
      ],
      "execution_count": null,
      "outputs": [
        {
          "output_type": "stream",
          "text": [
            "<class 'pandas.core.frame.DataFrame'>\n",
            "RangeIndex: 7759 entries, 0 to 7758\n",
            "Data columns (total 25 columns):\n",
            " #   Column               Non-Null Count  Dtype  \n",
            "---  ------               --------------  -----  \n",
            " 0   APPLICATION.ID       7759 non-null   int64  \n",
            " 1   QUEUE.ID             7759 non-null   object \n",
            " 2   CURRENT.STAGE        7759 non-null   object \n",
            " 3   MARITAL.STATUS       7759 non-null   object \n",
            " 4   GENDER               7759 non-null   object \n",
            " 5   AGE                  7759 non-null   int64  \n",
            " 6   EDUCATION            7759 non-null   object \n",
            " 7   RESIDENCE.TYPE       7759 non-null   object \n",
            " 8   CITY                 7759 non-null   object \n",
            " 9   STATE                7759 non-null   object \n",
            " 10  EMPLOY.CONSTITUTION  7759 non-null   object \n",
            " 11  PAN.STATUS           7759 non-null   object \n",
            " 12  APPLICATION.SCORE    7759 non-null   float64\n",
            " 13  APPROVED.AMOUNT      7759 non-null   int64  \n",
            " 14  APPLIED.AMOUNT       7759 non-null   int64  \n",
            " 15  LOAN.TENOR           7759 non-null   int64  \n",
            " 16  OWN.HOUSE.TYPE       7759 non-null   object \n",
            " 17  PRIMARY.ASSET.CTG    7759 non-null   object \n",
            " 18  PRIMARY.ASSET.MAKE   7759 non-null   object \n",
            " 19  VOTER_ID             7759 non-null   object \n",
            " 20  DRIVING_LICENSE      7759 non-null   object \n",
            " 21  AADHAAR              7759 non-null   object \n",
            " 22  PAN                  7759 non-null   object \n",
            " 23  BANK_PASSBOOK        7759 non-null   object \n",
            " 24  APPLICATION.STATUS   7759 non-null   object \n",
            "dtypes: float64(1), int64(5), object(19)\n",
            "memory usage: 1.5+ MB\n"
          ],
          "name": "stdout"
        }
      ]
    },
    {
      "cell_type": "code",
      "metadata": {
        "colab": {
          "base_uri": "https://localhost:8080/"
        },
        "id": "pNIkMh2NW36r",
        "outputId": "e27bc7d9-6cda-4420-9d79-dd718b514301"
      },
      "source": [
        "df.isna().sum()"
      ],
      "execution_count": null,
      "outputs": [
        {
          "output_type": "execute_result",
          "data": {
            "text/plain": [
              "APPLICATION.ID         0\n",
              "QUEUE.ID               0\n",
              "CURRENT.STAGE          0\n",
              "MARITAL.STATUS         0\n",
              "GENDER                 0\n",
              "AGE                    0\n",
              "EDUCATION              0\n",
              "RESIDENCE.TYPE         0\n",
              "CITY                   0\n",
              "STATE                  0\n",
              "EMPLOY.CONSTITUTION    0\n",
              "PAN.STATUS             0\n",
              "APPLICATION.SCORE      0\n",
              "APPROVED.AMOUNT        0\n",
              "APPLIED.AMOUNT         0\n",
              "LOAN.TENOR             0\n",
              "OWN.HOUSE.TYPE         0\n",
              "PRIMARY.ASSET.CTG      0\n",
              "PRIMARY.ASSET.MAKE     0\n",
              "VOTER_ID               0\n",
              "DRIVING_LICENSE        0\n",
              "AADHAAR                0\n",
              "PAN                    0\n",
              "BANK_PASSBOOK          0\n",
              "APPLICATION.STATUS     0\n",
              "dtype: int64"
            ]
          },
          "metadata": {
            "tags": []
          },
          "execution_count": 47
        }
      ]
    },
    {
      "cell_type": "code",
      "metadata": {
        "colab": {
          "base_uri": "https://localhost:8080/"
        },
        "id": "snBBXYDqW36u",
        "outputId": "8afc0d8c-d7e4-40ce-f4c2-872b07d5c170"
      },
      "source": [
        "df.columns"
      ],
      "execution_count": null,
      "outputs": [
        {
          "output_type": "execute_result",
          "data": {
            "text/plain": [
              "Index(['APPLICATION.ID', 'QUEUE.ID', 'CURRENT.STAGE', 'MARITAL.STATUS',\n",
              "       'GENDER', 'AGE', 'EDUCATION', 'RESIDENCE.TYPE', 'CITY', 'STATE',\n",
              "       'EMPLOY.CONSTITUTION', 'PAN.STATUS', 'APPLICATION.SCORE',\n",
              "       'APPROVED.AMOUNT', 'APPLIED.AMOUNT', 'LOAN.TENOR', 'OWN.HOUSE.TYPE',\n",
              "       'PRIMARY.ASSET.CTG', 'PRIMARY.ASSET.MAKE', 'VOTER_ID',\n",
              "       'DRIVING_LICENSE', 'AADHAAR', 'PAN', 'BANK_PASSBOOK',\n",
              "       'APPLICATION.STATUS'],\n",
              "      dtype='object')"
            ]
          },
          "metadata": {
            "tags": []
          },
          "execution_count": 48
        }
      ]
    },
    {
      "cell_type": "code",
      "metadata": {
        "colab": {
          "base_uri": "https://localhost:8080/"
        },
        "id": "5OVDFSQ1W36x",
        "outputId": "587b97fb-7891-4a30-a0ce-3535ffb5ffd7"
      },
      "source": [
        "from sklearn.preprocessing import LabelEncoder, OneHotEncoder\n",
        "le = LabelEncoder()\n",
        "\n",
        "# Label Encoding will be used for columns with 2 or less unique values\n",
        "le_count = 0\n",
        "for col in df.columns:\n",
        "    print(col)\n",
        "    if df[col].dtype == 'object':\n",
        "        le.fit(df[col])\n",
        "        df[col] = le.transform(df[col])\n",
        "        le_count += 1\n",
        "print('{} columns were label encoded.'.format(le_count))"
      ],
      "execution_count": null,
      "outputs": [
        {
          "output_type": "stream",
          "text": [
            "APPLICATION.ID\n",
            "QUEUE.ID\n",
            "CURRENT.STAGE\n",
            "MARITAL.STATUS\n",
            "GENDER\n",
            "AGE\n",
            "EDUCATION\n",
            "RESIDENCE.TYPE\n",
            "CITY\n",
            "STATE\n",
            "EMPLOY.CONSTITUTION\n",
            "PAN.STATUS\n",
            "APPLICATION.SCORE\n",
            "APPROVED.AMOUNT\n",
            "APPLIED.AMOUNT\n",
            "LOAN.TENOR\n",
            "OWN.HOUSE.TYPE\n",
            "PRIMARY.ASSET.CTG\n",
            "PRIMARY.ASSET.MAKE\n",
            "VOTER_ID\n",
            "DRIVING_LICENSE\n",
            "AADHAAR\n",
            "PAN\n",
            "BANK_PASSBOOK\n",
            "APPLICATION.STATUS\n",
            "19 columns were label encoded.\n"
          ],
          "name": "stdout"
        }
      ]
    },
    {
      "cell_type": "code",
      "metadata": {
        "id": "8CaCCJfaW365"
      },
      "source": [
        "X = df.drop(\"APPLICATION.STATUS\", axis=1)\n",
        "y = df[\"APPLICATION.STATUS\"]"
      ],
      "execution_count": null,
      "outputs": []
    },
    {
      "cell_type": "code",
      "metadata": {
        "id": "OhL-b7W8W368"
      },
      "source": [
        "from sklearn.model_selection import train_test_split\n",
        "X_train, X_test, y_train, y_test = train_test_split(X, y, test_size=0.40,train_size=0.60)"
      ],
      "execution_count": null,
      "outputs": []
    },
    {
      "cell_type": "code",
      "metadata": {
        "colab": {
          "base_uri": "https://localhost:8080/"
        },
        "id": "L73JCiqUcC9L",
        "outputId": "e2793e04-f407-4f56-9362-d6d11ca239d0"
      },
      "source": [
        "from sklearn.tree import DecisionTreeClassifier\n",
        "classifier = DecisionTreeClassifier()\n",
        "classifier = classifier.fit(X_train, y_train)\n",
        "y_pred = classifier.predict(X_test)\n",
        "print(\"ACCURACY OF THE Decision tree: \", metrics.accuracy_score(y_test, y_pred))"
      ],
      "execution_count": null,
      "outputs": [
        {
          "output_type": "stream",
          "text": [
            "ACCURACY OF THE Decision tree:  0.9990335051546392\n"
          ],
          "name": "stdout"
        }
      ]
    },
    {
      "cell_type": "code",
      "metadata": {
        "colab": {
          "base_uri": "https://localhost:8080/",
          "height": 601
        },
        "id": "AXW3tpXiciCl",
        "outputId": "463dd5c3-7e2a-4ea2-a401-1115c6b33148"
      },
      "source": [
        "from sklearn import tree\n",
        "tree.plot_tree(classifier) "
      ],
      "execution_count": null,
      "outputs": [
        {
          "output_type": "execute_result",
          "data": {
            "text/plain": [
              "[Text(133.92000000000002, 201.90857142857143, 'X[13] <= 32160.5\\ngini = 0.49\\nsamples = 4655\\nvalue = [2659, 1996]'),\n",
              " Text(100.44000000000001, 170.84571428571428, 'gini = 0.0\\nsamples = 1176\\nvalue = [1176, 0]'),\n",
              " Text(167.40000000000003, 170.84571428571428, 'X[13] <= 32410.5\\ngini = 0.489\\nsamples = 3479\\nvalue = [1483, 1996]'),\n",
              " Text(66.96000000000001, 139.78285714285715, 'X[2] <= 0.5\\ngini = 0.375\\nsamples = 2660\\nvalue = [665, 1995]'),\n",
              " Text(33.480000000000004, 108.72, 'gini = 0.0\\nsamples = 662\\nvalue = [662, 0]'),\n",
              " Text(100.44000000000001, 108.72, 'X[2] <= 1.5\\ngini = 0.003\\nsamples = 1998\\nvalue = [3, 1995]'),\n",
              " Text(66.96000000000001, 77.65714285714284, 'gini = 0.0\\nsamples = 1274\\nvalue = [0, 1274]'),\n",
              " Text(133.92000000000002, 77.65714285714284, 'X[2] <= 4.5\\ngini = 0.008\\nsamples = 724\\nvalue = [3, 721]'),\n",
              " Text(100.44000000000001, 46.59428571428572, 'X[9] <= 5.5\\ngini = 0.375\\nsamples = 4\\nvalue = [3, 1]'),\n",
              " Text(66.96000000000001, 15.531428571428563, 'gini = 0.0\\nsamples = 1\\nvalue = [0, 1]'),\n",
              " Text(133.92000000000002, 15.531428571428563, 'gini = 0.0\\nsamples = 3\\nvalue = [3, 0]'),\n",
              " Text(167.40000000000003, 46.59428571428572, 'gini = 0.0\\nsamples = 720\\nvalue = [0, 720]'),\n",
              " Text(267.84000000000003, 139.78285714285715, 'X[18] <= 7.0\\ngini = 0.002\\nsamples = 819\\nvalue = [818, 1]'),\n",
              " Text(234.36, 108.72, 'X[6] <= 4.0\\ngini = 0.04\\nsamples = 49\\nvalue = [48, 1]'),\n",
              " Text(200.88000000000002, 77.65714285714284, 'gini = 0.0\\nsamples = 46\\nvalue = [46, 0]'),\n",
              " Text(267.84000000000003, 77.65714285714284, 'X[8] <= 247.5\\ngini = 0.444\\nsamples = 3\\nvalue = [2, 1]'),\n",
              " Text(234.36, 46.59428571428572, 'gini = 0.0\\nsamples = 2\\nvalue = [2, 0]'),\n",
              " Text(301.32000000000005, 46.59428571428572, 'gini = 0.0\\nsamples = 1\\nvalue = [0, 1]'),\n",
              " Text(301.32000000000005, 108.72, 'gini = 0.0\\nsamples = 770\\nvalue = [770, 0]')]"
            ]
          },
          "metadata": {
            "tags": []
          },
          "execution_count": 61
        },
        {
          "output_type": "display_data",
          "data": {
            "image/png": "[encoded data removed]",
            "text/plain": [
              "<Figure size 432x288 with 1 Axes>"
            ]
          },
          "metadata": {
            "tags": [],
            "needs_background": "light"
          }
        }
      ]
    },
    {
      "cell_type": "code",
      "metadata": {
        "colab": {
          "base_uri": "https://localhost:8080/"
        },
        "id": "7hDCrvKTcqjt",
        "outputId": "b72614a9-d9b3-4d11-f656-eabcda73d019"
      },
      "source": [
        "from sklearn.metrics import classification_report, confusion_matrix\n",
        "print(confusion_matrix(y_test, y_pred))\n",
        "print(classification_report(y_test, y_pred))"
      ],
      "execution_count": null,
      "outputs": [
        {
          "output_type": "stream",
          "text": [
            "[[1776    2]\n",
            " [   1 1325]]\n",
            "              precision    recall  f1-score   support\n",
            "\n",
            "           0       1.00      1.00      1.00      1778\n",
            "           1       1.00      1.00      1.00      1326\n",
            "\n",
            "    accuracy                           1.00      3104\n",
            "   macro avg       1.00      1.00      1.00      3104\n",
            "weighted avg       1.00      1.00      1.00      3104\n",
            "\n"
          ],
          "name": "stdout"
        }
      ]
    },
    {
      "cell_type": "code",
      "metadata": {
        "colab": {
          "base_uri": "https://localhost:8080/"
        },
        "id": "G3ojz918W37B",
        "outputId": "265277d3-659c-493b-ecbf-d3b5d4dfb7c5"
      },
      "source": [
        "from sklearn.ensemble import RandomForestClassifier\n",
        "rfc= RandomForestClassifier(n_estimators = 100)  \n",
        "rfc.fit(X_train, y_train)\n",
        "y_pred1 = rfc.predict(X_test)\n",
        "print(\"ACCURACY OF THE Random forest: \", metrics.accuracy_score(y_test, y_pred1))"
      ],
      "execution_count": null,
      "outputs": [
        {
          "output_type": "stream",
          "text": [
            "ACCURACY OF THE Random forest:  0.9990335051546392\n"
          ],
          "name": "stdout"
        }
      ]
    },
    {
      "cell_type": "code",
      "metadata": {
        "colab": {
          "base_uri": "https://localhost:8080/"
        },
        "id": "Rf5GoCraW37C",
        "outputId": "8a8eff03-6ccf-4053-adb0-e69c67d8f709"
      },
      "source": [
        "print(confusion_matrix(y_test, y_pred1))\n",
        "print(classification_report(y_test, y_pred1))"
      ],
      "execution_count": null,
      "outputs": [
        {
          "output_type": "stream",
          "text": [
            "[[1776    2]\n",
            " [   1 1325]]\n",
            "              precision    recall  f1-score   support\n",
            "\n",
            "           0       1.00      1.00      1.00      1778\n",
            "           1       1.00      1.00      1.00      1326\n",
            "\n",
            "    accuracy                           1.00      3104\n",
            "   macro avg       1.00      1.00      1.00      3104\n",
            "weighted avg       1.00      1.00      1.00      3104\n",
            "\n"
          ],
          "name": "stdout"
        }
      ]
    },
    {
      "cell_type": "code",
      "metadata": {
        "id": "ImjYiXTZW37D"
      },
      "source": [
        ""
      ],
      "execution_count": null,
      "outputs": []
    }
  ]
}